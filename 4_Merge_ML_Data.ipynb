{
 "cells": [
  {
   "cell_type": "code",
   "execution_count": 1,
   "metadata": {},
   "outputs": [],
   "source": [
    "import numpy as np\n",
    "import pandas as pd\n",
    "import matplotlib.pyplot as plt"
   ]
  },
  {
   "cell_type": "code",
   "execution_count": 2,
   "metadata": {},
   "outputs": [],
   "source": [
    "f1 = \"../Results/ML_2023-07-14_1HR.pkl\"\n",
    "f2 = \"../Results/ML_2023-07-30_1HR.pkl\"\n",
    "f3 = \"../Results/ML_2023-08-23_1HR.pkl\"\n",
    "f4 = \"../Results/ML_2023-08-31_1HR.pkl\"\n",
    "\n",
    "df1 = pd.read_pickle(f1)  \n",
    "df2 = pd.read_pickle(f2)  \n",
    "df3 = pd.read_pickle(f3)  \n",
    "df4 = pd.read_pickle(f4)  "
   ]
  },
  {
   "cell_type": "code",
   "execution_count": 7,
   "metadata": {},
   "outputs": [
    {
     "name": "stdout",
     "output_type": "stream",
     "text": [
      "obsTimeUtc\n",
      "2023-07-14 14:59:00+00:00    25940\n",
      "2023-07-14 14:58:00+00:00      504\n",
      "Name: count, dtype: int64\n",
      "\n",
      "obsTimeUtc\n",
      "2023-07-30 14:59:00+00:00    228507\n",
      "Name: count, dtype: int64\n",
      "\n",
      "obsTimeUtc\n",
      "2023-08-23 14:59:00+00:00    181800\n",
      "Name: count, dtype: int64\n",
      "\n",
      "obsTimeUtc\n",
      "2023-08-31 14:59:00+00:00    209741\n",
      "2023-08-31 14:58:00+00:00     22817\n",
      "Name: count, dtype: int64\n"
     ]
    }
   ],
   "source": [
    "print( df1['obsTimeUtc'].value_counts() )\n",
    "print()\n",
    "print( df2['obsTimeUtc'].value_counts() )\n",
    "print()\n",
    "print( df3['obsTimeUtc'].value_counts() )\n",
    "print()\n",
    "print( df4['obsTimeUtc'].value_counts() )"
   ]
  },
  {
   "cell_type": "code",
   "execution_count": 8,
   "metadata": {},
   "outputs": [
    {
     "data": {
      "text/html": [
       "<div>\n",
       "<style scoped>\n",
       "    .dataframe tbody tr th:only-of-type {\n",
       "        vertical-align: middle;\n",
       "    }\n",
       "\n",
       "    .dataframe tbody tr th {\n",
       "        vertical-align: top;\n",
       "    }\n",
       "\n",
       "    .dataframe thead th {\n",
       "        text-align: right;\n",
       "    }\n",
       "</style>\n",
       "<table border=\"1\" class=\"dataframe\">\n",
       "  <thead>\n",
       "    <tr style=\"text-align: right;\">\n",
       "      <th></th>\n",
       "      <th>fahrenheit</th>\n",
       "      <th>zscore</th>\n",
       "      <th>ndvi</th>\n",
       "      <th>lstLat</th>\n",
       "      <th>lstLon</th>\n",
       "      <th>stationID</th>\n",
       "      <th>tz</th>\n",
       "      <th>obsTimeUtc</th>\n",
       "      <th>obsTimeLocal</th>\n",
       "      <th>epoch</th>\n",
       "      <th>...</th>\n",
       "      <th>windchillLow</th>\n",
       "      <th>windchillAvg</th>\n",
       "      <th>heatindexHigh</th>\n",
       "      <th>heatindexLow</th>\n",
       "      <th>heatindexAvg</th>\n",
       "      <th>pressureMax</th>\n",
       "      <th>pressureMin</th>\n",
       "      <th>pressureTrend</th>\n",
       "      <th>precipRate</th>\n",
       "      <th>precipTotal</th>\n",
       "    </tr>\n",
       "  </thead>\n",
       "  <tbody>\n",
       "    <tr>\n",
       "      <th>0</th>\n",
       "      <td>71.39351</td>\n",
       "      <td>0.103809</td>\n",
       "      <td>0.197744</td>\n",
       "      <td>39.368980</td>\n",
       "      <td>-76.710881</td>\n",
       "      <td>LGC</td>\n",
       "      <td>America/New_York</td>\n",
       "      <td>2023-07-30 14:59:00+00:00</td>\n",
       "      <td>2023-07-30 10:59:00</td>\n",
       "      <td>1690729140</td>\n",
       "      <td>...</td>\n",
       "      <td>23.6</td>\n",
       "      <td>24.9</td>\n",
       "      <td>25.9</td>\n",
       "      <td>23.7</td>\n",
       "      <td>24.9</td>\n",
       "      <td>1016.39</td>\n",
       "      <td>1015.92</td>\n",
       "      <td>0.0</td>\n",
       "      <td>0.0</td>\n",
       "      <td>0.0</td>\n",
       "    </tr>\n",
       "    <tr>\n",
       "      <th>1</th>\n",
       "      <td>71.47278</td>\n",
       "      <td>0.119911</td>\n",
       "      <td>0.232110</td>\n",
       "      <td>39.368985</td>\n",
       "      <td>-76.710533</td>\n",
       "      <td>LGC</td>\n",
       "      <td>America/New_York</td>\n",
       "      <td>2023-07-30 14:59:00+00:00</td>\n",
       "      <td>2023-07-30 10:59:00</td>\n",
       "      <td>1690729140</td>\n",
       "      <td>...</td>\n",
       "      <td>23.6</td>\n",
       "      <td>24.9</td>\n",
       "      <td>25.9</td>\n",
       "      <td>23.7</td>\n",
       "      <td>24.9</td>\n",
       "      <td>1016.39</td>\n",
       "      <td>1015.92</td>\n",
       "      <td>0.0</td>\n",
       "      <td>0.0</td>\n",
       "      <td>0.0</td>\n",
       "    </tr>\n",
       "    <tr>\n",
       "      <th>2</th>\n",
       "      <td>71.44191</td>\n",
       "      <td>0.113641</td>\n",
       "      <td>0.258738</td>\n",
       "      <td>39.368990</td>\n",
       "      <td>-76.710185</td>\n",
       "      <td>LGC</td>\n",
       "      <td>America/New_York</td>\n",
       "      <td>2023-07-30 14:59:00+00:00</td>\n",
       "      <td>2023-07-30 10:59:00</td>\n",
       "      <td>1690729140</td>\n",
       "      <td>...</td>\n",
       "      <td>23.6</td>\n",
       "      <td>24.9</td>\n",
       "      <td>25.9</td>\n",
       "      <td>23.7</td>\n",
       "      <td>24.9</td>\n",
       "      <td>1016.39</td>\n",
       "      <td>1015.92</td>\n",
       "      <td>0.0</td>\n",
       "      <td>0.0</td>\n",
       "      <td>0.0</td>\n",
       "    </tr>\n",
       "  </tbody>\n",
       "</table>\n",
       "<p>3 rows × 43 columns</p>\n",
       "</div>"
      ],
      "text/plain": [
       "   fahrenheit    zscore      ndvi     lstLat     lstLon stationID  \\\n",
       "0    71.39351  0.103809  0.197744  39.368980 -76.710881       LGC   \n",
       "1    71.47278  0.119911  0.232110  39.368985 -76.710533       LGC   \n",
       "2    71.44191  0.113641  0.258738  39.368990 -76.710185       LGC   \n",
       "\n",
       "                 tz                 obsTimeUtc         obsTimeLocal  \\\n",
       "0  America/New_York  2023-07-30 14:59:00+00:00  2023-07-30 10:59:00   \n",
       "1  America/New_York  2023-07-30 14:59:00+00:00  2023-07-30 10:59:00   \n",
       "2  America/New_York  2023-07-30 14:59:00+00:00  2023-07-30 10:59:00   \n",
       "\n",
       "        epoch  ...  windchillLow  windchillAvg  heatindexHigh  heatindexLow  \\\n",
       "0  1690729140  ...          23.6          24.9           25.9          23.7   \n",
       "1  1690729140  ...          23.6          24.9           25.9          23.7   \n",
       "2  1690729140  ...          23.6          24.9           25.9          23.7   \n",
       "\n",
       "   heatindexAvg  pressureMax  pressureMin  pressureTrend  precipRate  \\\n",
       "0          24.9      1016.39      1015.92            0.0         0.0   \n",
       "1          24.9      1016.39      1015.92            0.0         0.0   \n",
       "2          24.9      1016.39      1015.92            0.0         0.0   \n",
       "\n",
       "   precipTotal  \n",
       "0          0.0  \n",
       "1          0.0  \n",
       "2          0.0  \n",
       "\n",
       "[3 rows x 43 columns]"
      ]
     },
     "execution_count": 8,
     "metadata": {},
     "output_type": "execute_result"
    }
   ],
   "source": [
    "df2.head(3)"
   ]
  },
  {
   "cell_type": "code",
   "execution_count": 9,
   "metadata": {},
   "outputs": [
    {
     "data": {
      "text/plain": [
       "obsTimeLocal\n",
       "2023-08-23 10:59:00    181800\n",
       "Name: count, dtype: int64"
      ]
     },
     "execution_count": 9,
     "metadata": {},
     "output_type": "execute_result"
    }
   ],
   "source": [
    "df3['obsTimeLocal'].value_counts()"
   ]
  },
  {
   "cell_type": "code",
   "execution_count": 10,
   "metadata": {},
   "outputs": [
    {
     "name": "stdout",
     "output_type": "stream",
     "text": [
      "Expected number of rows: 669309\n",
      "Number of rows: 669309\n"
     ]
    }
   ],
   "source": [
    "df = pd.concat( [df1,df2] )\n",
    "df = pd.concat( [df,df3] )\n",
    "df = pd.concat( [df,df4] )\n",
    "\n",
    "n1 = df1.shape[0] + df2.shape[0] + df3.shape[0] + df4.shape[0]\n",
    "n2 = df.shape[0]\n",
    "print(\"Expected number of rows:\", n1)\n",
    "print(\"Number of rows:\", n2)"
   ]
  },
  {
   "cell_type": "markdown",
   "metadata": {},
   "source": [
    "#### Visualize Spatial Coverage"
   ]
  },
  {
   "cell_type": "code",
   "execution_count": 11,
   "metadata": {},
   "outputs": [
    {
     "data": {
      "text/plain": [
       "(-76.8, -76.4)"
      ]
     },
     "execution_count": 11,
     "metadata": {},
     "output_type": "execute_result"
    },
    {
     "data": {
      "image/png": "[encoded data removed]",
      "text/plain": [
       "<Figure size 432x288 with 1 Axes>"
      ]
     },
     "metadata": {
      "needs_background": "light"
     },
     "output_type": "display_data"
    }
   ],
   "source": [
    "plt.scatter( df['lstLon'], df['lstLat'] )\n",
    "plt.ylim(39.15,39.4)\n",
    "plt.xlim(-76.8,-76.4)"
   ]
  },
  {
   "cell_type": "markdown",
   "metadata": {},
   "source": [
    "### Making sure no null values remain"
   ]
  },
  {
   "cell_type": "code",
   "execution_count": 12,
   "metadata": {},
   "outputs": [
    {
     "data": {
      "text/plain": [
       "fahrenheit            0\n",
       "zscore                0\n",
       "ndvi                  0\n",
       "lstLat                0\n",
       "lstLon                0\n",
       "stationID             0\n",
       "tz                    0\n",
       "obsTimeUtc            0\n",
       "obsTimeLocal          0\n",
       "epoch                 0\n",
       "bsecLat               0\n",
       "bsecLon               0\n",
       "bsecDistance          0\n",
       "solarRadiationHigh    0\n",
       "uvHigh                0\n",
       "winddirAvg            0\n",
       "humidityHigh          0\n",
       "humidityLow           0\n",
       "humidityAvg           0\n",
       "qcStatus              0\n",
       "tempHigh              0\n",
       "tempLow               0\n",
       "tempAvg               0\n",
       "windspeedHigh         0\n",
       "windspeedLow          0\n",
       "windspeedAvg          0\n",
       "windgustHigh          0\n",
       "windgustLow           0\n",
       "windgustAvg           0\n",
       "dewptHigh             0\n",
       "dewptLow              0\n",
       "dewptAvg              0\n",
       "windchillHigh         0\n",
       "windchillLow          0\n",
       "windchillAvg          0\n",
       "heatindexHigh         0\n",
       "heatindexLow          0\n",
       "heatindexAvg          0\n",
       "pressureMax           0\n",
       "pressureMin           0\n",
       "pressureTrend         0\n",
       "precipRate            0\n",
       "precipTotal           0\n",
       "dtype: int64"
      ]
     },
     "execution_count": 12,
     "metadata": {},
     "output_type": "execute_result"
    }
   ],
   "source": [
    "df.isnull().sum()"
   ]
  },
  {
   "cell_type": "markdown",
   "metadata": {},
   "source": [
    "### Make sure no bad qc data"
   ]
  },
  {
   "cell_type": "code",
   "execution_count": 13,
   "metadata": {},
   "outputs": [
    {
     "data": {
      "text/plain": [
       "qcStatus\n",
       "1    669309\n",
       "Name: count, dtype: int64"
      ]
     },
     "execution_count": 13,
     "metadata": {},
     "output_type": "execute_result"
    }
   ],
   "source": [
    "df['qcStatus'].value_counts()"
   ]
  },
  {
   "cell_type": "markdown",
   "metadata": {},
   "source": [
    "### Additional data filtering of BSEC data\n",
    "\n",
    "* found pressure trend has fill values of 999.9\n",
    "* found windspeedAvg has erroneous values - keep values below 300"
   ]
  },
  {
   "cell_type": "code",
   "execution_count": 14,
   "metadata": {},
   "outputs": [
    {
     "name": "stdout",
     "output_type": "stream",
     "text": [
      "Before: (669309, 43)\n",
      "After: (669309, 43)\n"
     ]
    }
   ],
   "source": [
    "print(\"Before:\", df.shape)\n",
    "df = df[ df['pressureTrend'] < 999.9 ]\n",
    "df = df[ df['windspeedAvg'] < 300. ]\n",
    "print(\"After:\", df.shape)"
   ]
  },
  {
   "cell_type": "code",
   "execution_count": 15,
   "metadata": {},
   "outputs": [
    {
     "data": {
      "text/plain": [
       "array(['LGC', 'OG', 'AAC', 'NRP', 'ARK', 'JHU', 'SMF', 'ABL'],\n",
       "      dtype=object)"
      ]
     },
     "execution_count": 15,
     "metadata": {},
     "output_type": "execute_result"
    }
   ],
   "source": [
    "df['stationID'].unique()"
   ]
  },
  {
   "cell_type": "code",
   "execution_count": 16,
   "metadata": {},
   "outputs": [
    {
     "data": {
      "text/plain": [
       "Text(0, 0.5, 'Number of Observations')"
      ]
     },
     "execution_count": 16,
     "metadata": {},
     "output_type": "execute_result"
    },
    {
     "data": {
      "image/png": "[encoded data removed]",
      "text/plain": [
       "<Figure size 432x288 with 1 Axes>"
      ]
     },
     "metadata": {
      "needs_background": "light"
     },
     "output_type": "display_data"
    }
   ],
   "source": [
    "plt.hist( df['bsecDistance'] )\n",
    "plt.title('Distance to Nearest Weather Station')\n",
    "plt.xlabel('Distance (km)')\n",
    "plt.ylabel('Number of Observations')"
   ]
  },
  {
   "cell_type": "code",
   "execution_count": 17,
   "metadata": {},
   "outputs": [
    {
     "name": "stdout",
     "output_type": "stream",
     "text": [
      "Mean: 3.8861755464842624\n",
      "Median: 3.371997196538866\n",
      "SD: 2.527654224451405\n"
     ]
    }
   ],
   "source": [
    "print( \"Mean:\", np.mean(df['bsecDistance']) )\n",
    "print( \"Median:\", np.median(df['bsecDistance']) )\n",
    "print( \"SD:\", np.std(df['bsecDistance']) )"
   ]
  },
  {
   "cell_type": "code",
   "execution_count": 18,
   "metadata": {},
   "outputs": [
    {
     "data": {
      "text/plain": [
       "Text(0, 0.5, 'Number of Observations')"
      ]
     },
     "execution_count": 18,
     "metadata": {},
     "output_type": "execute_result"
    },
    {
     "data": {
      "image/png": "[encoded data removed]",
      "text/plain": [
       "<Figure size 432x288 with 1 Axes>"
      ]
     },
     "metadata": {
      "needs_background": "light"
     },
     "output_type": "display_data"
    }
   ],
   "source": [
    "plt.hist( df['fahrenheit'] )\n",
    "plt.title('Distribution of LST')\n",
    "plt.xlabel('LST (Farenheit)')\n",
    "plt.ylabel('Number of Observations')"
   ]
  },
  {
   "cell_type": "code",
   "execution_count": 19,
   "metadata": {},
   "outputs": [
    {
     "name": "stdout",
     "output_type": "stream",
     "text": [
      "Mean: 72.85970681119933\n",
      "Median: 71.925415\n",
      "SD: 6.836092629273296\n"
     ]
    }
   ],
   "source": [
    "print( \"Mean:\", np.mean(df['fahrenheit']) )\n",
    "print( \"Median:\", np.median(df['fahrenheit']) )\n",
    "print( \"SD:\", np.std(df['fahrenheit']) )"
   ]
  },
  {
   "cell_type": "code",
   "execution_count": 20,
   "metadata": {},
   "outputs": [],
   "source": [
    "dfLessThan1 = df[ df['bsecDistance'] < 1 ]\n",
    "df1to2 = df[ (df['bsecDistance'] >= 1) & (df['bsecDistance'] < 2) ]\n",
    "df2to3 = df[ (df['bsecDistance'] >= 2) & (df['bsecDistance'] < 3) ]\n",
    "df3to4 = df[ (df['bsecDistance'] >= 3) & (df['bsecDistance'] < 4) ]\n",
    "df4orMore = df[ df['bsecDistance'] >= 4 ]"
   ]
  },
  {
   "cell_type": "code",
   "execution_count": 21,
   "metadata": {},
   "outputs": [
    {
     "data": {
      "text/plain": [
       "((58498, 43), (117687, 43), (122620, 43), (91218, 43), (279286, 43))"
      ]
     },
     "execution_count": 21,
     "metadata": {},
     "output_type": "execute_result"
    }
   ],
   "source": [
    "dfLessThan1.shape, df1to2.shape, df2to3.shape, df3to4.shape, df4orMore.shape"
   ]
  },
  {
   "cell_type": "code",
   "execution_count": 22,
   "metadata": {},
   "outputs": [
    {
     "data": {
      "text/plain": [
       "(669309, 43)"
      ]
     },
     "execution_count": 22,
     "metadata": {},
     "output_type": "execute_result"
    }
   ],
   "source": [
    "df.shape"
   ]
  },
  {
   "cell_type": "code",
   "execution_count": 23,
   "metadata": {},
   "outputs": [],
   "source": [
    "# shuffle the dataframe rows\n",
    "\n",
    "df = df.sample(frac = 1)\n",
    "dfLessThan1 = dfLessThan1.sample(frac = 1)\n",
    "df1to2 = df1to2.sample(frac = 1)\n",
    "df2to3 = df2to3.sample(frac = 1)\n",
    "df3to4 = df3to4.sample(frac = 1)\n",
    "df4orMore = df4orMore.sample(frac = 1)"
   ]
  },
  {
   "cell_type": "code",
   "execution_count": 24,
   "metadata": {},
   "outputs": [],
   "source": [
    "df.to_pickle(\"../Results/ML_Data_1HR.pkl\")"
   ]
  },
  {
   "cell_type": "code",
   "execution_count": 25,
   "metadata": {},
   "outputs": [],
   "source": [
    "dfLessThan1.to_pickle(\"../Results/ML_Data_lt_1_1HR.pkl\")\n",
    "df1to2.to_pickle(\"../Results/ML_Data_1_to_2_1HR.pkl\")\n",
    "df2to3.to_pickle(\"../Results/ML_Data_2_to_3_1HR.pkl\")\n",
    "df3to4.to_pickle(\"../Results/ML_Data_3_to_4_1HR.pkl\")\n",
    "df4orMore.to_pickle(\"../Results/ML_Data_ge_4_1HR.pkl\")"
   ]
  },
  {
   "cell_type": "code",
   "execution_count": null,
   "metadata": {},
   "outputs": [],
   "source": []
  }
 ],
 "metadata": {
  "kernelspec": {
   "display_name": "Python 3 (ipykernel)",
   "language": "python",
   "name": "python3"
  },
  "language_info": {
   "codemirror_mode": {
    "name": "ipython",
    "version": 3
   },
   "file_extension": ".py",
   "mimetype": "text/x-python",
   "name": "python",
   "nbconvert_exporter": "python",
   "pygments_lexer": "ipython3",
   "version": "3.9.13"
  }
 },
 "nbformat": 4,
 "nbformat_minor": 2
}
